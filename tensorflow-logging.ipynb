{
 "cells": [
  {
   "cell_type": "markdown",
   "metadata": {},
   "source": [
    "# Logging data with TensorFlow and TensorBoard"
   ]
  },
  {
   "cell_type": "markdown",
   "metadata": {},
   "source": [
    "- Run the below cell to write logs with the tensorflow writer\n",
    "- Use [jupyter-tensorboard](https://pypi.python.org/pypi/jupyter-tensorboard) in order to visualise the data\n",
    "  - Go to the Jupyter file tree\n",
    "  - Select the directory `logs`\n",
    "  - Click the button `tensorboard` to open a new tensorboard session"
   ]
  },
  {
   "cell_type": "code",
   "execution_count": 1,
   "metadata": {},
   "outputs": [],
   "source": [
    "import tensorflow as tf\n",
    "import numpy as np\n",
    "\n",
    "raw_data = np.random.normal(10,1, 100)\n",
    "alpha = tf.constant(0.05)\n",
    "\n",
    "# Nodes for the computation graph\n",
    "curr_value = tf.placeholder(tf.float32)\n",
    "prev_avg = tf.Variable(0.)\n",
    "update_avg = alpha * curr_value + (1-alpha) * prev_avg\n",
    "avg_hist = tf.summary.scalar(\"running_average\", update_avg) # Create a summary operation with tag running_average\n",
    "value_hist = tf.summary.scalar(\"incoming_value\", curr_value) # Create a summary operation with tag incoming_values\n",
    "merged_summary = tf.summary.merge_all() # Combine all summary ops into a single op that we will run later\n",
    "init = tf.global_variables_initializer() # Create initialization operator (operator is created only, not executed)\n",
    "\n",
    "# Setup summary writer\n",
    "graph = tf.get_default_graph()\n",
    "writer = tf.summary.FileWriter(\".logs\", graph=graph) # Writing the graph is optional\n",
    "\n",
    "\n",
    "with tf.Session() as sess: # Create a new tensorflow session\n",
    "    sess.run(init) # Execute initialization operator in this session\n",
    "    for i in range(len(raw_data)):\n",
    "        summary_str, curr_avg = sess.run([merged_summary, update_avg], feed_dict=\\\n",
    "                                         {curr_value: raw_data[i]}) # Execute operators merged_summary and update_avg\n",
    "        sess.run(tf.assign(prev_avg, curr_avg)) # Execute operator \n",
    "        writer.add_summary(summary_str, i) # Write the summary string, together with the gobal step i"
   ]
  }
 ],
 "metadata": {
  "kernelspec": {
   "display_name": "Python 3",
   "language": "python",
   "name": "python3"
  },
  "language_info": {
   "codemirror_mode": {
    "name": "ipython",
    "version": 3
   },
   "file_extension": ".py",
   "mimetype": "text/x-python",
   "name": "python",
   "nbconvert_exporter": "python",
   "pygments_lexer": "ipython3",
   "version": "3.5.3"
  }
 },
 "nbformat": 4,
 "nbformat_minor": 2
}
